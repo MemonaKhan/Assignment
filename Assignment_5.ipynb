{
 "cells": [
  {
   "cell_type": "code",
   "execution_count": 7,
   "metadata": {},
   "outputs": [
    {
     "name": "stdout",
     "output_type": "stream",
     "text": [
      "Enter a number to calculate its factorial: 5\n",
      "The factorial of 5 is 120\n"
     ]
    }
   ],
   "source": [
    "# Question.1\n",
    "\n",
    "def factorial(num):\n",
    "    fact = 1\n",
    "    if num < 0:\n",
    "        return 0\n",
    "    elif num == 0:\n",
    "        return 1\n",
    "    elif num == 1:\n",
    "        return 1\n",
    "    else:\n",
    "        for i in range(1,num+1):\n",
    "            fact = fact * i\n",
    "    return fact\n",
    "    \n",
    "number = int(input(\"Enter a number to calculate its factorial: \"))\n",
    "fact = factorial(number)\n",
    "if fact == 0:\n",
    "    print(\"No factorial exist for negative number\")\n",
    "else:\n",
    "    print(\"The factorial of {} is {}\".format(number, fact))"
   ]
  },
  {
   "cell_type": "code",
   "execution_count": 5,
   "metadata": {},
   "outputs": [
    {
     "name": "stdout",
     "output_type": "stream",
     "text": [
      "Enter any string: Hello World\n",
      "Number of Upper Case letters are 2\n",
      "Number of Lower Case letters are 8\n"
     ]
    }
   ],
   "source": [
    "# Question.2\n",
    "\n",
    "def cal_uppcase_lowcase(string):\n",
    "    upper_letters = 0\n",
    "    lower_letters = 0\n",
    "    for character in string:\n",
    "        if character.isupper():\n",
    "            upper_letters += 1\n",
    "        if character.islower():\n",
    "            lower_letters += 1\n",
    "    print(\"Number of Upper Case letters are\", upper_letters)\n",
    "    print(\"Number of Lower Case letters are\", lower_letters)\n",
    "\n",
    "string = input(\"Enter any string: \")\n",
    "cal_uppcase_lowcase(string)"
   ]
  },
  {
   "cell_type": "code",
   "execution_count": 6,
   "metadata": {},
   "outputs": [
    {
     "name": "stdout",
     "output_type": "stream",
     "text": [
      "Numbers in the List are:\n",
      "[2, 5, 9, 4, 7, 23, 6, 12, 7]\n",
      "Even Numbers in the List are:\n",
      "2\n",
      "4\n",
      "6\n",
      "12\n"
     ]
    }
   ],
   "source": [
    "# Question.3\n",
    "\n",
    "def check_even(array):\n",
    "    print(\"Even Numbers in the List are:\")\n",
    "    for i in array:\n",
    "        if i % 2 == 0:\n",
    "            print(i)\n",
    "\n",
    "numbers = [2,5,9,4,7,23,6,12,7]\n",
    "print(\"Numbers in the List are:\")\n",
    "print(numbers)\n",
    "even_numbers = check_even(numbers)"
   ]
  },
  {
   "cell_type": "code",
   "execution_count": 9,
   "metadata": {},
   "outputs": [
    {
     "name": "stdout",
     "output_type": "stream",
     "text": [
      "The string is palindrome\n"
     ]
    }
   ],
   "source": [
    "# Question.4\n",
    "\n",
    "def check_palindrome(string):\n",
    "    start = 0\n",
    "    end = len(string) - 1\n",
    "    while end >= start:\n",
    "        if string[start] == string[end]:\n",
    "            start +=1\n",
    "            end -= 1\n",
    "        else:\n",
    "            return 0\n",
    "    return 1\n",
    "    \n",
    "result = check_palindrome(\"madam\")\n",
    "if result == 1:\n",
    "    print(\"The string is palindrome\")\n",
    "if result == 0:\n",
    "    print(\"The string is not palindrome\")\n",
    "    "
   ]
  },
  {
   "cell_type": "code",
   "execution_count": 2,
   "metadata": {},
   "outputs": [
    {
     "name": "stdout",
     "output_type": "stream",
     "text": [
      "Enter any number: 7\n",
      "7 is a Prime number\n"
     ]
    }
   ],
   "source": [
    "# Question.5\n",
    "\n",
    "def check_prime(number):\n",
    "    if number == 1:\n",
    "        return \"Not a Prime\"\n",
    "    elif number == 2:\n",
    "        return \"a Prime\"\n",
    "    else:\n",
    "        for i in range(2,number):\n",
    "            if number % i == 0:\n",
    "                return \"Not a Prime\"\n",
    "            \n",
    "    return \"a Prime\"\n",
    "\n",
    "number = int(input(\"Enter any number: \"))\n",
    "result = check_prime(number)\n",
    "print(\"{} is {} number\".format(number, result))"
   ]
  },
  {
   "cell_type": "code",
   "execution_count": 3,
   "metadata": {},
   "outputs": [
    {
     "name": "stdout",
     "output_type": "stream",
     "text": [
      "('Bananas', 'Ketchup', 'Tomato', 'Rice')\n"
     ]
    }
   ],
   "source": [
    "# Question.6\n",
    "\n",
    "def shopping_list(*items):\n",
    "    print(items)\n",
    "\n",
    "shopping_list(\"Bananas\",\"Ketchup\",\"Tomato\",\"Rice\")"
   ]
  }
 ],
 "metadata": {
  "kernelspec": {
   "display_name": "Python 3",
   "language": "python",
   "name": "python3"
  },
  "language_info": {
   "codemirror_mode": {
    "name": "ipython",
    "version": 3
   },
   "file_extension": ".py",
   "mimetype": "text/x-python",
   "name": "python",
   "nbconvert_exporter": "python",
   "pygments_lexer": "ipython3",
   "version": "3.7.4"
  }
 },
 "nbformat": 4,
 "nbformat_minor": 2
}
