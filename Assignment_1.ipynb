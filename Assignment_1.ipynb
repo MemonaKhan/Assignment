{
 "cells": [
  {
   "cell_type": "code",
   "execution_count": 2,
   "metadata": {},
   "outputs": [
    {
     "name": "stdout",
     "output_type": "stream",
     "text": [
      "Twinkle, twinkle, little star,\n",
      "\tHow I wonder what you are!  \n",
      "\t\tUp above the world so high, \n",
      "\t\tLike a diamond in the sky.  \n",
      "Twinkle, twinkle, little star,\n",
      "\tHow I wonder what you are!  \n"
     ]
    }
   ],
   "source": [
    "# Question.1\n",
    "print(\"Twinkle, twinkle, little star,\")\n",
    "print(\"\\tHow I wonder what you are!  \")\n",
    "print(\"\\t\\tUp above the world so high, \")\n",
    "print(\"\\t\\tLike a diamond in the sky.  \")\n",
    "print(\"Twinkle, twinkle, little star,\")\n",
    "print(\"\\tHow I wonder what you are!  \")"
   ]
  },
  {
   "cell_type": "code",
   "execution_count": 4,
   "metadata": {},
   "outputs": [
    {
     "name": "stdout",
     "output_type": "stream",
     "text": [
      "The Python version we are using is\n",
      "3.7.4 (default, Aug  9 2019, 18:34:13) [MSC v.1915 64 bit (AMD64)]\n",
      "The other information of Python Version is\n",
      "sys.version_info(major=3, minor=7, micro=4, releaselevel='final', serial=0)\n"
     ]
    }
   ],
   "source": [
    "# Question.2\n",
    "import sys\n",
    "\n",
    "print(\"The Python version we are using is\")\n",
    "print (sys.version)\n",
    "print(\"The other information of Python Version is\")\n",
    "print (sys.version_info)"
   ]
  },
  {
   "cell_type": "code",
   "execution_count": 11,
   "metadata": {},
   "outputs": [
    {
     "name": "stdout",
     "output_type": "stream",
     "text": [
      "The current Date and Time is given below:\n",
      "20-11-2019 19:57:09\n"
     ]
    }
   ],
   "source": [
    "# Question.3\n",
    "import datetime\n",
    "print(\"The current Date and Time is given below:\")\n",
    "date_time = datetime.datetime.now()\n",
    "date_time_in_format = date_time.strftime(\"%d-%m-%Y %H:%M:%S\")\n",
    "print(date_time_in_format)"
   ]
  },
  {
   "cell_type": "code",
   "execution_count": 17,
   "metadata": {},
   "outputs": [
    {
     "name": "stdout",
     "output_type": "stream",
     "text": [
      "Enter radius of circle: 5\n",
      "The area of circle of radius 5.0 is 78.5\n"
     ]
    }
   ],
   "source": [
    "# Question.4\n",
    "PI = 3.14\n",
    "radius = float(input(\"Enter radius of circle: \"))\n",
    "area = PI*radius**2\n",
    "print(\"The area of circle of radius\",radius,\"is\",area)"
   ]
  },
  {
   "cell_type": "code",
   "execution_count": 19,
   "metadata": {},
   "outputs": [
    {
     "name": "stdout",
     "output_type": "stream",
     "text": [
      "Enter your first name: Memona\n",
      "Enter your last name: Khan\n",
      "In reverse Order\n",
      "Khan Memona\n"
     ]
    }
   ],
   "source": [
    "# Question.5\n",
    "first_name = input(\"Enter your first name: \")\n",
    "last_name = input(\"Enter your last name: \")\n",
    "print(\"In reverse Order\")\n",
    "print(last_name + \" \" +first_name)"
   ]
  },
  {
   "cell_type": "code",
   "execution_count": 20,
   "metadata": {},
   "outputs": [
    {
     "name": "stdout",
     "output_type": "stream",
     "text": [
      "Enter the first number5\n",
      "Enter the second number8\n",
      "The Addition of 5 and 8 is 13\n"
     ]
    }
   ],
   "source": [
    "# Question.6\n",
    "num1 = input(\"Enter the first number\")\n",
    "num2 = input(\"Enter the second number\")\n",
    "add = int(num1) + int(num2)\n",
    "print(\"The Addition of\", num1, \"and\", num2, \"is\", add)"
   ]
  }
 ],
 "metadata": {
  "kernelspec": {
   "display_name": "Python 3",
   "language": "python",
   "name": "python3"
  },
  "language_info": {
   "codemirror_mode": {
    "name": "ipython",
    "version": 3
   },
   "file_extension": ".py",
   "mimetype": "text/x-python",
   "name": "python",
   "nbconvert_exporter": "python",
   "pygments_lexer": "ipython3",
   "version": "3.7.4"
  }
 },
 "nbformat": 4,
 "nbformat_minor": 2
}
