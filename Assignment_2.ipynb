{
 "cells": [
  {
   "cell_type": "code",
   "execution_count": 1,
   "metadata": {},
   "outputs": [
    {
     "name": "stdout",
     "output_type": "stream",
     "text": [
      "Enter marks of English: 84\n",
      "Enter marks of Urdu: 75\n",
      "Enter marks of Maths: 96\n",
      "Enter marks of Science: 84\n",
      "Enter marks of Islamiyat: 92\n",
      "Marksheet\n",
      "Total Marks: 431\n",
      "Persentage: 86.2\n",
      "Grade: A+\n"
     ]
    }
   ],
   "source": [
    "# Question.1\n",
    "eng = int(input(\"Enter marks of English: \"))\n",
    "urdu = int(input(\"Enter marks of Urdu: \"))\n",
    "math = int(input(\"Enter marks of Maths: \"))\n",
    "sci = int(input(\"Enter marks of Science: \"))\n",
    "isl = int(input(\"Enter marks of Islamiyat: \"))\n",
    "total = eng + urdu + math + sci + isl\n",
    "per = (total * 100)/500\n",
    "if per >= 80 and per <=100 :\n",
    "    grade = \"A+\"\n",
    "elif per >= 70 and per <80 :\n",
    "    grade = \"A\"\n",
    "elif per >= 60 and per <70 :\n",
    "    grade = \"B\"\n",
    "elif per >= 50 and per <60 :\n",
    "    grade = \"C\"\n",
    "elif per >= 40 and per <50 :\n",
    "    grade = \"D\"\n",
    "elif per >= 33 and per <40 :\n",
    "    grade = \"E\"\n",
    "else :\n",
    "    grade = \"Fail\"\n",
    "print(\"Marksheet\")\n",
    "print(\"Total Marks: \" + str(total))\n",
    "print(\"Persentage: \" + str(per))\n",
    "print(\"Grade: \" + grade)"
   ]
  },
  {
   "cell_type": "code",
   "execution_count": 2,
   "metadata": {},
   "outputs": [
    {
     "name": "stdout",
     "output_type": "stream",
     "text": [
      "Enter the number: 7\n",
      "This is an Odd Number \n"
     ]
    }
   ],
   "source": [
    "# Question.2\n",
    "num = int(input(\"Enter the number: \"))\n",
    "if num%2 == 0 :\n",
    "    print(\"This is an Even Number\")\n",
    "else :\n",
    "    print(\"This is an Odd Number \")"
   ]
  },
  {
   "cell_type": "code",
   "execution_count": 3,
   "metadata": {},
   "outputs": [
    {
     "name": "stdout",
     "output_type": "stream",
     "text": [
      "Length of the list is 8\n"
     ]
    }
   ],
   "source": [
    "# Question.3\n",
    "arr = [5,4,8,2,6,3,7,1]\n",
    "length = len(arr)\n",
    "print(\"Length of the list is \" + str(length))"
   ]
  },
  {
   "cell_type": "code",
   "execution_count": 4,
   "metadata": {},
   "outputs": [
    {
     "name": "stdout",
     "output_type": "stream",
     "text": [
      "Sum of numbers in list is\n",
      "273\n"
     ]
    }
   ],
   "source": [
    "# Question.4\n",
    "arr = [78,62,12,45,35,41]\n",
    "print(\"Sum of numbers in list is\")\n",
    "print(sum(arr))"
   ]
  },
  {
   "cell_type": "code",
   "execution_count": 5,
   "metadata": {},
   "outputs": [
    {
     "name": "stdout",
     "output_type": "stream",
     "text": [
      "Largest Number in the list is 95\n"
     ]
    }
   ],
   "source": [
    "# Question.5\n",
    "arr = [45,62,12,45,95,36]\n",
    "max_num = max(arr)\n",
    "print(\"Largest Number in the list is \" + str(max_num))"
   ]
  },
  {
   "cell_type": "code",
   "execution_count": 6,
   "metadata": {},
   "outputs": [
    {
     "name": "stdout",
     "output_type": "stream",
     "text": [
      "[1, 1, 2, 3]\n"
     ]
    }
   ],
   "source": [
    "# Question.6\n",
    "a = [1, 1, 2, 3, 5, 8, 13, 21, 34, 55, 89]\n",
    "a1 = a[0:4]\n",
    "print(a1)"
   ]
  }
 ],
 "metadata": {
  "kernelspec": {
   "display_name": "Python 3",
   "language": "python",
   "name": "python3"
  },
  "language_info": {
   "codemirror_mode": {
    "name": "ipython",
    "version": 3
   },
   "file_extension": ".py",
   "mimetype": "text/x-python",
   "name": "python",
   "nbconvert_exporter": "python",
   "pygments_lexer": "ipython3",
   "version": "3.7.4"
  }
 },
 "nbformat": 4,
 "nbformat_minor": 2
}
