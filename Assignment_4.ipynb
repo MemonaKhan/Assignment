{
 "cells": [
  {
   "cell_type": "code",
   "execution_count": 4,
   "metadata": {},
   "outputs": [
    {
     "name": "stdout",
     "output_type": "stream",
     "text": [
      "First Name:  Waseem\n",
      "Last Name:  Nasir\n",
      "Age:  20\n",
      "City:  Karachi\n",
      "Adding Qualification\n",
      "{'first_name': 'Waseem', 'last_name': 'Nasir', 'age': 20, 'city': 'Karachi', 'qualification': 'BS Computer Science'}\n",
      "Updating Qualification\n",
      "{'first_name': 'Waseem', 'last_name': 'Nasir', 'age': 20, 'city': 'Karachi', 'qualification': 'MS Computer Science'}\n",
      "Deleting Qualification\n",
      "{'first_name': 'Waseem', 'last_name': 'Nasir', 'age': 20, 'city': 'Karachi'}\n"
     ]
    }
   ],
   "source": [
    "# Question.1\n",
    "\n",
    "person_info = {\n",
    "    \"first_name\" : \"Waseem\",\n",
    "    \"last_name\" : \"Nasir\",\n",
    "    \"age\" : 20,\n",
    "    \"city\" : \"Karachi\",\n",
    "}\n",
    "print(\"First Name: \",person_info[\"first_name\"])\n",
    "print(\"Last Name: \",person_info[\"last_name\"])\n",
    "print(\"Age: \",person_info[\"age\"])\n",
    "print(\"City: \",person_info[\"city\"])\n",
    "\n",
    "print(\"Adding Qualification\")\n",
    "person_info[\"qualification\"] = \"BS Computer Science\"\n",
    "print(person_info)\n",
    "print(\"Updating Qualification\")\n",
    "person_info[\"qualification\"] = \"MS Computer Science\"\n",
    "print(person_info)\n",
    "print(\"Deleting Qualification\")\n",
    "del person_info[\"qualification\"]\n",
    "print(person_info)\n"
   ]
  },
  {
   "cell_type": "code",
   "execution_count": 5,
   "metadata": {},
   "outputs": [
    {
     "name": "stdout",
     "output_type": "stream",
     "text": [
      "Dubai\n",
      "{'country': 'UAE', 'population': '3.137 million', 'fact': 'On average, 14 million tourists a year visit Dubai'}\n",
      "Karachi\n",
      "{'country': 'Pakistan', 'population': '14.91 million', 'fact': 'Karachi is also the media electronic capital of Pakistan'}\n",
      "Paris\n",
      "{'country': 'France', 'population': '2.141 million', 'fact': 'Paris was originally a Roman City called Lutetia'}\n"
     ]
    }
   ],
   "source": [
    "# Question.2\n",
    "\n",
    "cities = {\n",
    "    \"Dubai\" : {\n",
    "        \"country\" : \"UAE\",\n",
    "        \"population\" : \"3.137 million\",\n",
    "        \"fact\" : \"On average, 14 million tourists a year visit Dubai\"\n",
    "    },\n",
    "    \"Karachi\" : {\n",
    "        \"country\" : \"Pakistan\",\n",
    "        \"population\" : \"14.91 million\",\n",
    "        \"fact\" : \"Karachi is also the media electronic capital of Pakistan\"\n",
    "    },\n",
    "    \"Paris\" : {\n",
    "        \"country\" : \"France\",\n",
    "        \"population\" : \"2.141 million\",\n",
    "        \"fact\" : \"Paris was originally a Roman City called Lutetia\"\n",
    "    }\n",
    "}\n",
    "print(\"Dubai\")\n",
    "print(cities[\"Dubai\"])\n",
    "print(\"Karachi\")\n",
    "print(cities[\"Karachi\"])\n",
    "print(\"Paris\")\n",
    "print(cities[\"Paris\"])"
   ]
  },
  {
   "cell_type": "code",
   "execution_count": 6,
   "metadata": {},
   "outputs": [
    {
     "name": "stdout",
     "output_type": "stream",
     "text": [
      "Enter your Age?\n",
      "For Exit type 'exit': 25\n",
      "  Your ticket is $15.\n",
      "Enter your Age?\n",
      "For Exit type 'exit': 10\n",
      "  Your ticket is $10.\n",
      "Enter your Age?\n",
      "For Exit type 'exit': 2\n",
      "  Your ticket is free!\n",
      "Enter your Age?\n",
      "For Exit type 'exit': exit\n"
     ]
    }
   ],
   "source": [
    "# Question.3\n",
    "\n",
    "condition = True\n",
    "while condition:\n",
    "    age = input(\"Enter your Age?\\nFor Exit type 'exit': \")\n",
    "    if age == 'exit':\n",
    "        condition = False\n",
    "    else: \n",
    "        age = int(age)\n",
    "        if age < 3:\n",
    "            print(\"  Your ticket is free!\")\n",
    "        elif age >=3 and age <= 12:\n",
    "            print(\"  Your ticket is $10.\")\n",
    "        else:\n",
    "            print(\"  Your ticket is $15.\")"
   ]
  },
  {
   "cell_type": "code",
   "execution_count": 7,
   "metadata": {},
   "outputs": [
    {
     "name": "stdout",
     "output_type": "stream",
     "text": [
      "One of my favorite books is Alice in Wonderland\n",
      "One of my favorite books is The secret Garden\n"
     ]
    }
   ],
   "source": [
    "# Question.4\n",
    "\n",
    "def favorite_book(title):\n",
    "    print(\"One of my favorite books is\",title)\n",
    "\n",
    "favorite_book(\"Alice in Wonderland\")\n",
    "favorite_book(\"The secret Garden\")"
   ]
  },
  {
   "cell_type": "code",
   "execution_count": 8,
   "metadata": {},
   "outputs": [
    {
     "name": "stdout",
     "output_type": "stream",
     "text": [
      "Guess the number game\n",
      "Guess the number: 26\n",
      "Your guessed number is greater than the hidden number.\n",
      "Guess the number: 9\n",
      "Your guessed number is greater than the hidden number.\n",
      "Guess the number: 5\n",
      "Your guessed number is smaller than the hidden number.\n",
      "You lose, the number was 6\n"
     ]
    }
   ],
   "source": [
    "# Question.5\n",
    "\n",
    "import random\n",
    "\n",
    "print(\"Guess the number game\")\n",
    "\n",
    "chances = 0\n",
    "number = random.randint(1, 30)\n",
    "\n",
    "while chances <3:\n",
    "    guess = int(input(\"Guess the number: \"))\n",
    "    if guess < number:\n",
    "        print(\"Your guessed number is smaller than the hidden number.\")\n",
    "    if guess > number:\n",
    "        print(\"Your guessed number is greater than the hidden number.\")\n",
    "    if guess == number:\n",
    "        print(\"Congratulations! You Win\")\n",
    "        break\n",
    "    chances += 1\n",
    "if guess != number:\n",
    "    print(\"You lose, the number was\",number)"
   ]
  },
  {
   "cell_type": "code",
   "execution_count": null,
   "metadata": {},
   "outputs": [],
   "source": []
  }
 ],
 "metadata": {
  "kernelspec": {
   "display_name": "Python 3",
   "language": "python",
   "name": "python3"
  },
  "language_info": {
   "codemirror_mode": {
    "name": "ipython",
    "version": 3
   },
   "file_extension": ".py",
   "mimetype": "text/x-python",
   "name": "python",
   "nbconvert_exporter": "python",
   "pygments_lexer": "ipython3",
   "version": "3.7.4"
  }
 },
 "nbformat": 4,
 "nbformat_minor": 2
}
