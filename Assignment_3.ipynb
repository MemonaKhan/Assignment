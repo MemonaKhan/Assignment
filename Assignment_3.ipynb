{
 "cells": [
  {
   "cell_type": "code",
   "execution_count": 15,
   "metadata": {},
   "outputs": [
    {
     "name": "stdout",
     "output_type": "stream",
     "text": [
      "Enter the first number: 5\n",
      "Enter the second number: 2\n",
      "Select the operation you want to perform\n",
      "1. Addition \n",
      "2. Subtraction \n",
      "3. Multiplication \n",
      "4. Division \n",
      "5. Power\n",
      "5\n",
      "Power = 25\n"
     ]
    }
   ],
   "source": [
    "# Question.1\n",
    "num1 = int(input(\"Enter the first number: \"))\n",
    "num2 = int(input(\"Enter the second number: \"))\n",
    "print(\"Select the operation you want to perform\")\n",
    "print(\"1. Addition \\n2. Subtraction \\n3. Multiplication \\n4. Division \\n5. Power\")\n",
    "option = int(input())\n",
    "if option ==1:\n",
    "    add = num1 + num2\n",
    "    print(\"Addition =\",add)\n",
    "elif option ==2:\n",
    "    sub = num1 - num2\n",
    "    print(\"Subtraction =\",sub)\n",
    "elif option ==3:\n",
    "    mult = num1 * num2\n",
    "    print(\"Multiplication =\",mult)\n",
    "elif option ==4:\n",
    "    div = num1 / num2\n",
    "    print(\"Division =\",div)\n",
    "elif option ==5:\n",
    "    power = num1 ** num2\n",
    "    print(\"Power =\",power)\n",
    "else:\n",
    "    print(\"Invalid selection\")\n"
   ]
  },
  {
   "cell_type": "code",
   "execution_count": 40,
   "metadata": {},
   "outputs": [
    {
     "name": "stdout",
     "output_type": "stream",
     "text": [
      "There is a numeric value in the list and that is 3\n"
     ]
    }
   ],
   "source": [
    "# Question.2\n",
    "arr = [2.5,\"abc\",False,\"Ali\",3,True]\n",
    "for i in arr:\n",
    "    if (isinstance(i,int) == True) and (isinstance(i,str) != True) and (isinstance(i,float) != True) and (isinstance(i,bool) != True):\n",
    "        print(\"There is a numeric value in the list and that is\",i)"
   ]
  },
  {
   "cell_type": "code",
   "execution_count": 45,
   "metadata": {},
   "outputs": [
    {
     "name": "stdout",
     "output_type": "stream",
     "text": [
      "{1: 'English', 2: 'Mathematics', 3: 'Computer'}\n",
      "{1: 'English', 2: 'Mathematics', 3: 'Computer', 4: 'Physics'}\n"
     ]
    }
   ],
   "source": [
    "# Question.3\n",
    "dictionary = {1: \"English\", 2: \"Mathematics\", 3: \"Computer\"}\n",
    "print(dictionary)\n",
    "dictionary.update({4: \"Physics\"})\n",
    "print(dictionary)"
   ]
  },
  {
   "cell_type": "code",
   "execution_count": 51,
   "metadata": {},
   "outputs": [
    {
     "name": "stdout",
     "output_type": "stream",
     "text": [
      "{'item1': 90, 'item2': 57, 'item3': 23, 'item4': 12, 'item5': 87}\n",
      "Sum is 269\n"
     ]
    }
   ],
   "source": [
    "# Question.4\n",
    "dictionary = {\"item1\":90, \"item2\":57, \"item3\":23, \"item4\":12, \"item5\":87}\n",
    "s = 0\n",
    "for i in dictionary.values():\n",
    "    s = s + i\n",
    "print(dictionary)\n",
    "print(\"Sum is\",s)"
   ]
  },
  {
   "cell_type": "code",
   "execution_count": 56,
   "metadata": {},
   "outputs": [
    {
     "name": "stdout",
     "output_type": "stream",
     "text": [
      "Duplicate values from list are [4, 7, 2]\n"
     ]
    }
   ],
   "source": [
    "# Question.5\n",
    "arr1 = [4,2,7,4,6,8,7,0,3,2,9]\n",
    "arr2 = [] \n",
    "arr3 = []\n",
    "for i in arr1: \n",
    "    if i not in arr2: \n",
    "        arr2.append(i)\n",
    "    else:\n",
    "        arr3.append(i)\n",
    "print(\"Duplicate values from list are\",arr3)"
   ]
  },
  {
   "cell_type": "code",
   "execution_count": 64,
   "metadata": {},
   "outputs": [
    {
     "name": "stdout",
     "output_type": "stream",
     "text": [
      "Enter the key: 6\n",
      "The key does not exist in the list\n"
     ]
    }
   ],
   "source": [
    "# Question.6\n",
    "dictionary = {'1': \"Ali\", '2': \"Ahmed\", '3': \"Hassan\", '4': \"Kiran\", '5': \"Faiza\"}\n",
    "key = input(\"Enter the key: \")\n",
    "if key in dictionary.keys():\n",
    "    print(\"The key is already exist in dictionary\")\n",
    "else:\n",
    "    print(\"The key does not exist in the list\")"
   ]
  }
 ],
 "metadata": {
  "kernelspec": {
   "display_name": "Python 3",
   "language": "python",
   "name": "python3"
  },
  "language_info": {
   "codemirror_mode": {
    "name": "ipython",
    "version": 3
   },
   "file_extension": ".py",
   "mimetype": "text/x-python",
   "name": "python",
   "nbconvert_exporter": "python",
   "pygments_lexer": "ipython3",
   "version": "3.7.4"
  }
 },
 "nbformat": 4,
 "nbformat_minor": 2
}
